{
 "cells": [
  {
   "cell_type": "markdown",
   "metadata": {},
   "source": [
    "# 给同学拍毕业照的前期准备"
   ]
  },
  {
   "attachments": {},
   "cell_type": "markdown",
   "metadata": {},
   "source": [
    "\n",
    "1. 通用部分\n",
    "\ta. 风格收集\n",
    "\t\ti. 严肃\n",
    "\t\tii. 活泼\n",
    "\t\tiii. 高冷\n",
    "\t\tiv. 结合道具\n",
    "\tb. 校园场景选择\n",
    "\t\ti. 重要地标建筑\n",
    "\t\tii. 主要活动区域\n",
    "\t\t\t1) 室内，有合适空间，无其它人，有足够光线\n",
    "\t\t\t\t\n",
    "\t\tiii. 人物为核心的区域\n",
    "\tc. 相机设置学习\n",
    "\t\ti. 主要参数\n",
    "\t\tii. 闪光灯\n",
    "\t\tiii. 反光板\n",
    "\t\tiv. 如何人白\n",
    "\t\tv. 如何脸小\n",
    "2. 特别部分\n",
    "\ta. 和被拍摄对象建立联系\n",
    "\t\ti. 信任建立\n",
    "\t\tii. 沟通方式\n",
    "\t\tiii. 表情动作管理\n",
    "\tb. 拍摄对象日常活动场景\n",
    "\tc. 拍摄对象适合的风格\n",
    "\td. 日程安排\n",
    "\t\ti. 拍摄前接触，确定风格\n",
    "\t\tii. 路线安排\n",
    "时间调整!"
   ]
  }
 ],
 "metadata": {
  "kernelspec": {
   "display_name": "Python 3",
   "language": "python",
   "name": "python3"
  },
  "language_info": {
   "codemirror_mode": {
    "name": "ipython",
    "version": 3
   },
   "file_extension": ".py",
   "mimetype": "text/x-python",
   "name": "python",
   "nbconvert_exporter": "python",
   "pygments_lexer": "ipython3",
   "version": "3.7.3"
  }
 },
 "nbformat": 4,
 "nbformat_minor": 2
}
